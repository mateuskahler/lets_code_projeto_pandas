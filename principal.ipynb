{
 "cells": [
  {
   "cell_type": "markdown",
   "metadata": {},
   "source": [
    "### Turma 806, Grupo"
   ]
  }
 ],
 "metadata": {
  "interpreter": {
   "hash": "14a15e179de59952da150ac494831ded6c42e25cd153bf47c8c4f16a60d69274"
  },
  "kernelspec": {
   "display_name": "Python 3.9.6 64-bit",
   "language": "python",
   "name": "python3"
  },
  "language_info": {
   "name": "python",
   "version": "3.9.6"
  },
  "orig_nbformat": 4
 },
 "nbformat": 4,
 "nbformat_minor": 2
}
