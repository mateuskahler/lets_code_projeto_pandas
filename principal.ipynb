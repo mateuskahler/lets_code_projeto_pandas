{
 "cells": [
  {
   "cell_type": "code",
   "execution_count": 4,
   "metadata": {},
   "outputs": [
    {
     "ename": "ImportError",
     "evalue": "cannot import name 'ler_arquivos' from 'leitura' (c:\\Users\\Dell\\Desktop\\projeto_pandas\\lets_code_projeto_pandas\\leitura.py)",
     "output_type": "error",
     "traceback": [
      "\u001b[1;31m---------------------------------------------------------------------------\u001b[0m",
      "\u001b[1;31mImportError\u001b[0m                               Traceback (most recent call last)",
      "\u001b[1;32m~\\AppData\\Local\\Temp/ipykernel_6780/2685359522.py\u001b[0m in \u001b[0;36m<module>\u001b[1;34m\u001b[0m\n\u001b[0;32m      2\u001b[0m \u001b[1;32mimport\u001b[0m \u001b[0mnumpy\u001b[0m \u001b[1;32mas\u001b[0m \u001b[0mnp\u001b[0m\u001b[1;33m\u001b[0m\u001b[1;33m\u001b[0m\u001b[0m\n\u001b[0;32m      3\u001b[0m \u001b[1;33m\u001b[0m\u001b[0m\n\u001b[1;32m----> 4\u001b[1;33m \u001b[1;32mfrom\u001b[0m \u001b[0mleitura\u001b[0m \u001b[1;32mimport\u001b[0m \u001b[0mler_arquivos\u001b[0m\u001b[1;33m,\u001b[0m \u001b[0mjuntar_arquivos\u001b[0m\u001b[1;33m\u001b[0m\u001b[1;33m\u001b[0m\u001b[0m\n\u001b[0m",
      "\u001b[1;31mImportError\u001b[0m: cannot import name 'ler_arquivos' from 'leitura' (c:\\Users\\Dell\\Desktop\\projeto_pandas\\lets_code_projeto_pandas\\leitura.py)"
     ]
    }
   ],
   "source": [
    "import pandas as pd\n",
    "import numpy as np\n",
    "\n",
    "from leitura import ler_arquivos, juntar_arquivos"
   ]
  },
  {
   "cell_type": "markdown",
   "metadata": {},
   "source": [
    "### Turma 806, Grupo 2"
   ]
  },
  {
   "cell_type": "code",
   "execution_count": 3,
   "metadata": {},
   "outputs": [
    {
     "ename": "NameError",
     "evalue": "name 'juntar_arquivos' is not defined",
     "output_type": "error",
     "traceback": [
      "\u001b[1;31m---------------------------------------------------------------------------\u001b[0m",
      "\u001b[1;31mNameError\u001b[0m                                 Traceback (most recent call last)",
      "\u001b[1;32m~\\AppData\\Local\\Temp/ipykernel_6780/22691593.py\u001b[0m in \u001b[0;36m<module>\u001b[1;34m\u001b[0m\n\u001b[0;32m      3\u001b[0m \u001b[0mcsv_bens\u001b[0m \u001b[1;33m=\u001b[0m \u001b[1;34m'3_bens.csv'\u001b[0m\u001b[1;33m\u001b[0m\u001b[1;33m\u001b[0m\u001b[0m\n\u001b[0;32m      4\u001b[0m \u001b[1;33m\u001b[0m\u001b[0m\n\u001b[1;32m----> 5\u001b[1;33m \u001b[0mdata_frame\u001b[0m \u001b[1;33m=\u001b[0m \u001b[0mjuntar_arquivos\u001b[0m\u001b[1;33m(\u001b[0m\u001b[0mcsv_demo\u001b[0m\u001b[1;33m,\u001b[0m \u001b[0mcsv_renda\u001b[0m\u001b[1;33m,\u001b[0m \u001b[0mpasta\u001b[0m\u001b[1;33m=\u001b[0m\u001b[1;34m'dados'\u001b[0m\u001b[1;33m,\u001b[0m \u001b[0mtipo_join\u001b[0m\u001b[1;33m=\u001b[0m\u001b[1;34m'left'\u001b[0m\u001b[1;33m,\u001b[0m \u001b[0mchave\u001b[0m\u001b[1;33m=\u001b[0m\u001b[1;33m[\u001b[0m\u001b[1;34m'ID'\u001b[0m\u001b[1;33m,\u001b[0m \u001b[1;34m'Region'\u001b[0m\u001b[1;33m]\u001b[0m\u001b[1;33m)\u001b[0m\u001b[1;33m\u001b[0m\u001b[1;33m\u001b[0m\u001b[0m\n\u001b[0m\u001b[0;32m      6\u001b[0m \u001b[0mdata_frame\u001b[0m \u001b[1;33m=\u001b[0m \u001b[0mjuntar_arquivos\u001b[0m\u001b[1;33m(\u001b[0m\u001b[1;34m'merged_df.csv'\u001b[0m\u001b[1;33m,\u001b[0m \u001b[0mcsv_bens\u001b[0m\u001b[1;33m,\u001b[0m \u001b[0mpasta\u001b[0m\u001b[1;33m=\u001b[0m\u001b[1;34m'dados'\u001b[0m\u001b[1;33m)\u001b[0m\u001b[1;33m\u001b[0m\u001b[1;33m\u001b[0m\u001b[0m\n\u001b[0;32m      7\u001b[0m \u001b[1;33m\u001b[0m\u001b[0m\n",
      "\u001b[1;31mNameError\u001b[0m: name 'juntar_arquivos' is not defined"
     ]
    }
   ],
   "source": [
    "csv_demo = '1_demografico.csv'\n",
    "csv_renda = '2_renda_gastos.csv'\n",
    "csv_bens = '3_bens.csv'\n",
    "\n",
    "data_frame = juntar_arquivos(csv_demo, csv_renda, pasta='dados', tipo_join='left', chave=['ID', 'Region'])\n",
    "data_frame = juntar_arquivos('merged_df.csv', csv_bens, pasta='dados')\n",
    "\n",
    "data_frame"
   ]
  }
 ],
 "metadata": {
  "hide_input": false,
  "interpreter": {
   "hash": "14a15e179de59952da150ac494831ded6c42e25cd153bf47c8c4f16a60d69274"
  },
  "kernelspec": {
   "display_name": "Python 3 (ipykernel)",
   "language": "python",
   "name": "python3"
  },
  "language_info": {
   "codemirror_mode": {
    "name": "ipython",
    "version": 3
   },
   "file_extension": ".py",
   "mimetype": "text/x-python",
   "name": "python",
   "nbconvert_exporter": "python",
   "pygments_lexer": "ipython3",
   "version": "3.8.10"
  },
  "toc": {
   "base_numbering": 1,
   "nav_menu": {},
   "number_sections": true,
   "sideBar": true,
   "skip_h1_title": false,
   "title_cell": "Table of Contents",
   "title_sidebar": "Contents",
   "toc_cell": false,
   "toc_position": {},
   "toc_section_display": true,
   "toc_window_display": false
  }
 },
 "nbformat": 4,
 "nbformat_minor": 2
}
